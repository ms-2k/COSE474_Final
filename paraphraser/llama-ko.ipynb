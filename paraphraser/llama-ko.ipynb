{
 "cells": [
  {
   "cell_type": "code",
   "execution_count": 1,
   "metadata": {},
   "outputs": [],
   "source": [
    "from transformers import AutoTokenizer, AutoModelForCausalLM, BitsAndBytesConfig, TextStreamer, GenerationConfig\n",
    "import torch"
   ]
  },
  {
   "cell_type": "code",
   "execution_count": 2,
   "metadata": {},
   "outputs": [],
   "source": [
    "model_name = 'beomi/llama-2-ko-7b'"
   ]
  },
  {
   "cell_type": "code",
   "execution_count": 3,
   "metadata": {},
   "outputs": [],
   "source": [
    "quantization = BitsAndBytesConfig(\n",
    "    load_in_8bit = True,\n",
    "    llm_int8_enable_fp32_cpu_offload = True\n",
    ")"
   ]
  },
  {
   "cell_type": "code",
   "execution_count": 4,
   "metadata": {},
   "outputs": [
    {
     "name": "stdout",
     "output_type": "stream",
     "text": [
      "bin c:\\Users\\ms2k\\.conda\\envs\\ml\\Lib\\site-packages\\bitsandbytes\\libbitsandbytes_cuda121.dll\n"
     ]
    },
    {
     "data": {
      "application/vnd.jupyter.widget-view+json": {
       "model_id": "3cf2cc5db54e407ca503e0887e905659",
       "version_major": 2,
       "version_minor": 0
      },
      "text/plain": [
       "Loading checkpoint shards:   0%|          | 0/15 [00:00<?, ?it/s]"
      ]
     },
     "metadata": {},
     "output_type": "display_data"
    }
   ],
   "source": [
    "tokenizer = AutoTokenizer.from_pretrained(model_name)\n",
    "model = AutoModelForCausalLM.from_pretrained(\n",
    "    model_name,\n",
    "    device_map = 'cuda:0',\n",
    "    quantization_config = quantization\n",
    ")\n",
    "streamer = TextStreamer(tokenizer)"
   ]
  },
  {
   "cell_type": "code",
   "execution_count": 13,
   "metadata": {},
   "outputs": [
    {
     "ename": "NameError",
     "evalue": "name 'GenerationConfig' is not defined",
     "output_type": "error",
     "traceback": [
      "\u001b[1;31m---------------------------------------------------------------------------\u001b[0m",
      "\u001b[1;31mNameError\u001b[0m                                 Traceback (most recent call last)",
      "\u001b[1;32md:\\Documents\\uni stuff\\2023-02\\dl\\final\\paraphraser\\llama-ko.ipynb Cell 5\u001b[0m line \u001b[0;36m1\n\u001b[1;32m----> <a href='vscode-notebook-cell:/d%3A/Documents/uni%20stuff/2023-02/dl/final/paraphraser/llama-ko.ipynb#X14sZmlsZQ%3D%3D?line=0'>1</a>\u001b[0m gen_config \u001b[39m=\u001b[39m GenerationConfig(\n\u001b[0;32m      <a href='vscode-notebook-cell:/d%3A/Documents/uni%20stuff/2023-02/dl/final/paraphraser/llama-ko.ipynb#X14sZmlsZQ%3D%3D?line=1'>2</a>\u001b[0m     max_new_tokens \u001b[39m=\u001b[39m \u001b[39m512\u001b[39m,\n\u001b[0;32m      <a href='vscode-notebook-cell:/d%3A/Documents/uni%20stuff/2023-02/dl/final/paraphraser/llama-ko.ipynb#X14sZmlsZQ%3D%3D?line=2'>3</a>\u001b[0m     temperature \u001b[39m=\u001b[39m \u001b[39m0.9\u001b[39m,\n\u001b[0;32m      <a href='vscode-notebook-cell:/d%3A/Documents/uni%20stuff/2023-02/dl/final/paraphraser/llama-ko.ipynb#X14sZmlsZQ%3D%3D?line=3'>4</a>\u001b[0m     top_p \u001b[39m=\u001b[39m \u001b[39m0.8\u001b[39m,\n\u001b[0;32m      <a href='vscode-notebook-cell:/d%3A/Documents/uni%20stuff/2023-02/dl/final/paraphraser/llama-ko.ipynb#X14sZmlsZQ%3D%3D?line=4'>5</a>\u001b[0m     top_k \u001b[39m=\u001b[39m \u001b[39m100\u001b[39m,\n\u001b[0;32m      <a href='vscode-notebook-cell:/d%3A/Documents/uni%20stuff/2023-02/dl/final/paraphraser/llama-ko.ipynb#X14sZmlsZQ%3D%3D?line=5'>6</a>\u001b[0m     do_sample \u001b[39m=\u001b[39m \u001b[39mTrue\u001b[39;00m\n\u001b[0;32m      <a href='vscode-notebook-cell:/d%3A/Documents/uni%20stuff/2023-02/dl/final/paraphraser/llama-ko.ipynb#X14sZmlsZQ%3D%3D?line=6'>7</a>\u001b[0m )\n",
      "\u001b[1;31mNameError\u001b[0m: name 'GenerationConfig' is not defined"
     ]
    }
   ],
   "source": [
    "gen_config = GenerationConfig(\n",
    "    max_new_tokens = 512,\n",
    "    temperature = 0.9,\n",
    "    top_p = 0.8,\n",
    "    top_k = 100,\n",
    "    do_sample = True\n",
    ")"
   ]
  },
  {
   "cell_type": "code",
   "execution_count": null,
   "metadata": {},
   "outputs": [],
   "source": [
    "prompt = '''아래 주제에 관한 뉴스 써줘\n",
    "“엔비디아와 경쟁” 사피온, 차세대 AI 반도체 공개'''"
   ]
  },
  {
   "cell_type": "code",
   "execution_count": null,
   "metadata": {},
   "outputs": [],
   "source": [
    "tokens = tokenizer(\n",
    "    f\"### instruction: {prompt}\\n\\n### Response: \",\n",
    "    return_tensors = 'pt',\n",
    "    return_token_type_ids = False\n",
    ").to('cuda:0')"
   ]
  },
  {
   "cell_type": "code",
   "execution_count": null,
   "metadata": {},
   "outputs": [],
   "source": [
    "response = model.generate(\n",
    "    tokens,\n",
    "    generation_config = gen_config,\n",
    "    pad_token_id=tokenizer.eos_token_id,\n",
    "    eos_token_id=tokenizer.eos_token_id,\n",
    "    streamer=streamer\n",
    ")\n",
    "\n",
    "result = tokenizer.decode(response[0])\n",
    "result[result.find('\\n\\n### Response: '):]"
   ]
  }
 ],
 "metadata": {
  "kernelspec": {
   "display_name": "ml",
   "language": "python",
   "name": "python3"
  },
  "language_info": {
   "codemirror_mode": {
    "name": "ipython",
    "version": 3
   },
   "file_extension": ".py",
   "mimetype": "text/x-python",
   "name": "python",
   "nbconvert_exporter": "python",
   "pygments_lexer": "ipython3",
   "version": "3.11.5"
  }
 },
 "nbformat": 4,
 "nbformat_minor": 2
}
