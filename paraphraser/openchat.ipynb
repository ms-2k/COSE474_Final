{
 "cells": [
  {
   "cell_type": "code",
   "execution_count": 1,
   "metadata": {},
   "outputs": [
    {
     "name": "stderr",
     "output_type": "stream",
     "text": [
      "c:\\Users\\ms2k\\.conda\\envs\\ml\\Lib\\site-packages\\tqdm\\auto.py:21: TqdmWarning: IProgress not found. Please update jupyter and ipywidgets. See https://ipywidgets.readthedocs.io/en/stable/user_install.html\n",
      "  from .autonotebook import tqdm as notebook_tqdm\n"
     ]
    }
   ],
   "source": [
    "from transformers import AutoTokenizer, AutoModelForCausalLM, BitsAndBytesConfig\n",
    "import torch"
   ]
  },
  {
   "cell_type": "code",
   "execution_count": 2,
   "metadata": {},
   "outputs": [],
   "source": [
    "model_name = 'openchat/openchat_3.5'"
   ]
  },
  {
   "cell_type": "code",
   "execution_count": 3,
   "metadata": {},
   "outputs": [],
   "source": [
    "quantization = BitsAndBytesConfig(\n",
    "    load_in_8bit = True,\n",
    "    llm_int8_enable_fp32_cpu_offload = True\n",
    ")"
   ]
  },
  {
   "cell_type": "code",
   "execution_count": 4,
   "metadata": {},
   "outputs": [
    {
     "name": "stderr",
     "output_type": "stream",
     "text": [
      "Special tokens have been added in the vocabulary, make sure the associated word embeddings are fine-tuned or trained.\n"
     ]
    },
    {
     "name": "stdout",
     "output_type": "stream",
     "text": [
      "bin c:\\Users\\ms2k\\.conda\\envs\\ml\\Lib\\site-packages\\bitsandbytes\\libbitsandbytes_cuda121.dll\n"
     ]
    },
    {
     "name": "stderr",
     "output_type": "stream",
     "text": [
      "Loading checkpoint shards: 100%|██████████| 2/2 [01:23<00:00, 41.80s/it]\n"
     ]
    }
   ],
   "source": [
    "tokenizer = AutoTokenizer.from_pretrained(model_name)\n",
    "model = AutoModelForCausalLM.from_pretrained(\n",
    "    model_name,\n",
    "    device_map = 'cuda:0',\n",
    "    quantization_config = quantization\n",
    ")"
   ]
  },
  {
   "cell_type": "code",
   "execution_count": 29,
   "metadata": {},
   "outputs": [],
   "source": [
    "original = '''네이버 뉴스\n",
    "승부수 띄운 폴스타, 2025년 부산서 전기차 생산'''"
   ]
  },
  {
   "cell_type": "code",
   "execution_count": 30,
   "metadata": {},
   "outputs": [],
   "source": [
    "token = tokenizer(\n",
    "    original,\n",
    "    return_tensors = 'pt',\n",
    ").input_ids"
   ]
  },
  {
   "cell_type": "code",
   "execution_count": 31,
   "metadata": {},
   "outputs": [
    {
     "name": "stderr",
     "output_type": "stream",
     "text": [
      "The attention mask and the pad token id were not set. As a consequence, you may observe unexpected behavior. Please pass your input's `attention_mask` to obtain reliable results.\n",
      "Setting `pad_token_id` to `eos_token_id`:32000 for open-end generation.\n"
     ]
    },
    {
     "data": {
      "text/plain": [
       "' 시작\\n2021년 11월 29일 오후 5:50\\n\\n폴스타 전기차 공장 건설 공사 현장 사진. 사진=폴스타\\n\\n폴스타(Ford)는 2025년 부산에서 전기차를 생산할 것이라고 밝혔다. 이번 공고에서는 전기차 생산 시작 일정과 생산량, 그리고 전기차 모델 선정에 대한 내용이 포함되어 있다.\\n\\n폴스타는 이번 공고에서 2025년 부산에서 전기차를 생산할 것이라고 밝혔다. 이번 공고에서는 전기차 생산 시작 일정과 생산량, 그리고 전기차 모델 선정에 대한 내용이 포함되어 있다.\\n\\n폴스타는 이번 공고에서 2025년 부산에서 전기차를 생산할 것이라고 밝혔다. 이번 공고에서는 전기차 생산 시작 일정과 생산량, 그리고 전기차 모델 선정에 대한 내용이 포함되어 있다.\\n\\n폴스타는 이번 공고에서 2025년 부산에서 전기차를 생산할 것이라고 밝혔다. 이번 공고에서는 전기차 생산 시작 일정과 생산량, 그리고 전기차 모델 선정에 대한 내용이 포함되어 있다.\\n\\n폴스타는 이번'"
      ]
     },
     "execution_count": 31,
     "metadata": {},
     "output_type": "execute_result"
    }
   ],
   "source": [
    "outputs = model.generate(\n",
    "    token,\n",
    "    max_new_tokens = 512\n",
    ")\n",
    "\n",
    "tokenizer.decode(\n",
    "    outputs[0],\n",
    "    skip_special_tokens=True\n",
    ")[len(original):]"
   ]
  }
 ],
 "metadata": {
  "kernelspec": {
   "display_name": "ml",
   "language": "python",
   "name": "python3"
  },
  "language_info": {
   "codemirror_mode": {
    "name": "ipython",
    "version": 3
   },
   "file_extension": ".py",
   "mimetype": "text/x-python",
   "name": "python",
   "nbconvert_exporter": "python",
   "pygments_lexer": "ipython3",
   "version": "3.11.5"
  }
 },
 "nbformat": 4,
 "nbformat_minor": 2
}
